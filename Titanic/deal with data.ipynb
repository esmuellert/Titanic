{
 "cells": [
  {
   "cell_type": "code",
   "execution_count": 17,
   "metadata": {},
   "outputs": [],
   "source": [
    "import numpy as np\n",
    "import tensorflow as tf\n",
    "import pandas as pd\n",
    "import matplotlib.pyplot as plt"
   ]
  },
  {
   "cell_type": "code",
   "execution_count": 133,
   "metadata": {},
   "outputs": [],
   "source": [
    "train_raw = pd.read_csv(\"train.csv\")\n",
    "for i in range(891):\n",
    "    if np.isnan(train_raw.iloc[i,5]):\n",
    "        if \"Miss\" in train_raw.iloc[i,3]:\n",
    "            train_raw.iloc[i,5] = 10\n",
    "        if \"Master\" in train_raw.iloc[i,3]:\n",
    "            train_raw.iloc[i,5] = 4\n",
    "        else:\n",
    "            train_raw.iloc[i,5] = 30"
   ]
  },
  {
   "cell_type": "code",
   "execution_count": 147,
   "metadata": {},
   "outputs": [],
   "source": [
    "np.isnan(train_raw.iloc[888,5])\n",
    "train_raw.to_csv('train_age.csv')\n",
    "\n",
    "train_age = pd.read_csv('train_age.csv')\n",
    "tmp = pd.read_csv(\"train_1.csv\")\n",
    "\n",
    "tmp['Age'] = train_age.iloc[:,6]\n",
    "\n",
    "tmp.to_csv('train_2.csv')"
   ]
  }
 ],
 "metadata": {
  "kernelspec": {
   "display_name": "Python 3",
   "language": "python",
   "name": "python3"
  },
  "language_info": {
   "codemirror_mode": {
    "name": "ipython",
    "version": 3
   },
   "file_extension": ".py",
   "mimetype": "text/x-python",
   "name": "python",
   "nbconvert_exporter": "python",
   "pygments_lexer": "ipython3",
   "version": "3.6.6"
  }
 },
 "nbformat": 4,
 "nbformat_minor": 2
}
