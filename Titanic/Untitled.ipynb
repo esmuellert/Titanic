{
 "cells": [
  {
   "cell_type": "code",
   "execution_count": 1,
   "metadata": {},
   "outputs": [],
   "source": [
    "import numpy as np\n",
    "import tensorflow as tf\n",
    "import matplotlib.pyplot as plt"
   ]
  },
  {
   "cell_type": "code",
   "execution_count": 2,
   "metadata": {},
   "outputs": [],
   "source": [
    "# get data from train_1.csv\n",
    "tmp = np.genfromtxt(\"train_1.csv\", dtype=np.str, delimiter=\",\")\n",
    "train_data = tmp[1:,2:]\n",
    "train_lable = tmp[1:,1]\n",
    "\n",
    "# def add_layer(input,in_size,out_size):\n",
    "#     theta = tf.Variable(tf.random_normal([in_size,out_size]))\n",
    "#     if out_size==1:\n",
    "#         z = tf.matmul(input,theta)\n",
    "#         a = tf.sigmoid(z)\n",
    "#     else:\n",
    "#         z = tf.matmul(input,theta)\n",
    "#         a = tf.sigmoid(z)\n",
    "#         a = tf.concat([tf.zeros([input,1]),output],1)\n",
    "#     return theta,a,z\n",
    "\n",
    "\n",
    "# # define placeholder for inputs to network\n",
    "# xs = tf.placeholder(tf.float32,[None,6])\n",
    "# ys = tf.placeholder(tf.float32,[None,1])\n",
    "\n",
    "# # add hidden layer\n",
    "# theta_1,li1,z_1 = add_layer(xs,6,12)\n",
    "# # add output layer\n",
    "# theta_2,output,z_2 = add_layer(l1,13,1)\n",
    "\n",
    "# # the error between prediction and real data\n",
    "# J_theta = tf.nn.sigmoid_cross_entropy_with_logits(ys,z_2)\n",
    "\n",
    "# a = 0.1 # learning rate\n",
    "# train_step = tf.train.GradientDescentOptimizer(a).minimize(J_theta)\n",
    "\n",
    "# #initialize\n",
    "# init = tf.global_variables_initializer()\n",
    "\n",
    "# sess = tf.Session()\n",
    "# sess.run(init)\n",
    "\n",
    "# for i in range(1000):\n",
    "#     #training\n",
    "#     sess.run(train_step,feed_dict={xs:train_data,ys:train_lable})\n",
    "    \n",
    "#     if i % 50 == 0:\n",
    "#         print(sess.run(loss,feed_dict={xs:train_data,ys:train_lable}))"
   ]
  },
  {
   "cell_type": "code",
   "execution_count": 7,
   "metadata": {},
   "outputs": [
    {
     "data": {
      "text/plain": [
       "891"
      ]
     },
     "execution_count": 7,
     "metadata": {},
     "output_type": "execute_result"
    }
   ],
   "source": [
    "train_lable.size"
   ]
  }
 ],
 "metadata": {
  "kernelspec": {
   "display_name": "Python 3",
   "language": "python",
   "name": "python3"
  },
  "language_info": {
   "codemirror_mode": {
    "name": "ipython",
    "version": 3
   },
   "file_extension": ".py",
   "mimetype": "text/x-python",
   "name": "python",
   "nbconvert_exporter": "python",
   "pygments_lexer": "ipython3",
   "version": "3.6.6"
  }
 },
 "nbformat": 4,
 "nbformat_minor": 2
}
