{
 "cells": [
  {
   "cell_type": "code",
   "execution_count": 45,
   "metadata": {},
   "outputs": [],
   "source": [
    "import numpy as np\n",
    "from sklearn import svm"
   ]
  },
  {
   "cell_type": "code",
   "execution_count": 183,
   "metadata": {},
   "outputs": [
    {
     "name": "stdout",
     "output_type": "stream",
     "text": [
      "0.624113475177305\n",
      "0.624113475177305\n",
      "0.624113475177305\n",
      "0.624113475177305\n",
      "0.624113475177305\n",
      "0.624113475177305\n",
      "0.624113475177305\n",
      "0.624113475177305\n",
      "0.624113475177305\n",
      "0.624113475177305\n"
     ]
    }
   ],
   "source": [
    "# load data\n",
    "tmp = np.genfromtxt(\"train_2.csv\",dtype=float,delimiter = ',')\n",
    "tmp = np.delete(tmp,0,axis=0)\n",
    "tmp = np.delete(tmp,[0,1],axis=1)\n",
    "\n",
    "test_tmp = np.genfromtxt(\"test_2.csv\",dtype = int,delimiter=',')\n",
    "test_tmp = np.delete(test_tmp,0,axis=0)\n",
    "test_tmp = np.delete(test_tmp,[0,1],axis=1)\n",
    "\n",
    "result_tmp = np.genfromtxt(\"result.csv\",dtype=int,delimiter=',')\n",
    "# apart fature and lable\n",
    "\n",
    "train_quantity = 750\n",
    "train_data = tmp[:train_quantity,1:]\n",
    "train_lable = tmp[:train_quantity,0]\n",
    "\n",
    "validation_data = tmp[train_quantity:,1:]\n",
    "validation_lable = tmp[train_quantity:,0]\n",
    "\n",
    "for i in range(10):\n",
    "    clf = svm.SVC()\n",
    "    clf.fit(train_data,train_lable)\n",
    "\n",
    "    validation = clf.predict(validation_data)\n",
    "    accuracy_arr = np.abs(validation - validation_lable)\n",
    "    accuracy = (accuracy_arr.size - np.sum(accuracy_arr))/accuracy_arr.size\n",
    "\n",
    "\n",
    "\n",
    "    prediction = clf.predict(test_tmp)\n",
    "    result_tmp[1:,1] = prediction\n",
    "    title = np.array([\"PassengerId\",\"Survived\"])\n",
    "    title = title.reshape(1,2)\n",
    "    result = np.append(title,result_tmp,axis=0)\n",
    "    result = np.delete(result,1,axis=0)\n",
    "    np.savetxt(\"result.csv\", result, delimiter=\",\",fmt = \"%s\")\n",
    "\n",
    "    print(accuracy)"
   ]
  },
  {
   "cell_type": "code",
   "execution_count": null,
   "metadata": {},
   "outputs": [],
   "source": []
  }
 ],
 "metadata": {
  "kernelspec": {
   "display_name": "Python 3",
   "language": "python",
   "name": "python3"
  },
  "language_info": {
   "codemirror_mode": {
    "name": "ipython",
    "version": 3
   },
   "file_extension": ".py",
   "mimetype": "text/x-python",
   "name": "python",
   "nbconvert_exporter": "python",
   "pygments_lexer": "ipython3",
   "version": "3.6.6"
  }
 },
 "nbformat": 4,
 "nbformat_minor": 2
}
