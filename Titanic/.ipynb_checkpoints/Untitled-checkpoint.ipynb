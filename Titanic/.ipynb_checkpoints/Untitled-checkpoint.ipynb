{
 "cells": [
  {
   "cell_type": "code",
   "execution_count": 1,
   "metadata": {
    "scrolled": true
   },
   "outputs": [
    {
     "name": "stderr",
     "output_type": "stream",
     "text": [
      "/Library/Frameworks/Python.framework/Versions/3.6/lib/python3.6/importlib/_bootstrap.py:219: RuntimeWarning: compiletime version 3.5 of module 'tensorflow.python.framework.fast_tensor_util' does not match runtime version 3.6\n",
      "  return f(*args, **kwds)\n"
     ]
    }
   ],
   "source": [
    "import numpy as np\n",
    "import tensorflow as tf\n"
   ]
  },
  {
   "cell_type": "code",
   "execution_count": 67,
   "metadata": {},
   "outputs": [
    {
     "name": "stdout",
     "output_type": "stream",
     "text": [
      "J_theta: 0.57709634\n",
      "J_theta: 0.4727219\n",
      "J_theta: 0.47100127\n",
      "J_theta: 0.46966583\n",
      "J_theta: 0.46858087\n",
      "J_theta: 0.46768463\n",
      "J_theta: 0.46693262\n",
      "J_theta: 0.46629238\n",
      "J_theta: 0.46573868\n",
      "J_theta: 0.46525228\n",
      "J_theta: 0.46481782\n",
      "J_theta: 0.46442354\n",
      "J_theta: 0.46406037\n",
      "J_theta: 0.46372142\n",
      "J_theta: 0.46340138\n",
      "J_theta: 0.4630964\n",
      "J_theta: 0.46280345\n",
      "J_theta: 0.46252033\n",
      "J_theta: 0.4622455\n",
      "J_theta: 0.46197778\n",
      "J_theta: 0.46171647\n",
      "J_theta: 0.46146077\n",
      "J_theta: 0.46121016\n",
      "J_theta: 0.4609645\n",
      "J_theta: 0.46072337\n",
      "J_theta: 0.46048656\n",
      "J_theta: 0.4602536\n",
      "J_theta: 0.4600242\n",
      "J_theta: 0.45979834\n",
      "J_theta: 0.4595753\n",
      "J_theta: 0.45935497\n",
      "J_theta: 0.4591368\n",
      "J_theta: 0.45892048\n",
      "J_theta: 0.45870534\n",
      "J_theta: 0.458491\n",
      "J_theta: 0.45827666\n",
      "J_theta: 0.45806193\n",
      "J_theta: 0.45784596\n"
     ]
    },
    {
     "ename": "KeyboardInterrupt",
     "evalue": "",
     "output_type": "error",
     "traceback": [
      "\u001b[0;31m---------------------------------------------------------------------------\u001b[0m",
      "\u001b[0;31mKeyboardInterrupt\u001b[0m                         Traceback (most recent call last)",
      "\u001b[0;32m<ipython-input-67-82196d0898ee>\u001b[0m in \u001b[0;36m<module>\u001b[0;34m()\u001b[0m\n\u001b[1;32m     51\u001b[0m \u001b[0;32mfor\u001b[0m \u001b[0mi\u001b[0m \u001b[0;32min\u001b[0m \u001b[0mrange\u001b[0m\u001b[0;34m(\u001b[0m\u001b[0;36m100000\u001b[0m\u001b[0;34m)\u001b[0m\u001b[0;34m:\u001b[0m\u001b[0;34m\u001b[0m\u001b[0m\n\u001b[1;32m     52\u001b[0m     \u001b[0;31m#training\u001b[0m\u001b[0;34m\u001b[0m\u001b[0;34m\u001b[0m\u001b[0m\n\u001b[0;32m---> 53\u001b[0;31m     \u001b[0msess\u001b[0m\u001b[0;34m.\u001b[0m\u001b[0mrun\u001b[0m\u001b[0;34m(\u001b[0m\u001b[0mtrain_step\u001b[0m\u001b[0;34m,\u001b[0m\u001b[0mfeed_dict\u001b[0m\u001b[0;34m=\u001b[0m\u001b[0;34m{\u001b[0m\u001b[0mxs\u001b[0m\u001b[0;34m:\u001b[0m\u001b[0mtrain_data\u001b[0m\u001b[0;34m[\u001b[0m\u001b[0;36m0\u001b[0m\u001b[0;34m:\u001b[0m\u001b[0;36m600\u001b[0m\u001b[0;34m]\u001b[0m\u001b[0;34m,\u001b[0m\u001b[0mys\u001b[0m\u001b[0;34m:\u001b[0m\u001b[0mtrain_lable\u001b[0m\u001b[0;34m[\u001b[0m\u001b[0;36m0\u001b[0m\u001b[0;34m:\u001b[0m\u001b[0;36m600\u001b[0m\u001b[0;34m]\u001b[0m\u001b[0;34m}\u001b[0m\u001b[0;34m)\u001b[0m\u001b[0;34m\u001b[0m\u001b[0m\n\u001b[0m\u001b[1;32m     54\u001b[0m \u001b[0;34m\u001b[0m\u001b[0m\n\u001b[1;32m     55\u001b[0m     \u001b[0;32mif\u001b[0m \u001b[0mi\u001b[0m\u001b[0;34m%\u001b[0m\u001b[0;36m1000\u001b[0m \u001b[0;34m==\u001b[0m \u001b[0;36m0\u001b[0m\u001b[0;34m:\u001b[0m\u001b[0;34m\u001b[0m\u001b[0m\n",
      "\u001b[0;32m/Library/Frameworks/Python.framework/Versions/3.6/lib/python3.6/site-packages/tensorflow/python/client/session.py\u001b[0m in \u001b[0;36mrun\u001b[0;34m(self, fetches, feed_dict, options, run_metadata)\u001b[0m\n\u001b[1;32m    875\u001b[0m     \u001b[0;32mtry\u001b[0m\u001b[0;34m:\u001b[0m\u001b[0;34m\u001b[0m\u001b[0m\n\u001b[1;32m    876\u001b[0m       result = self._run(None, fetches, feed_dict, options_ptr,\n\u001b[0;32m--> 877\u001b[0;31m                          run_metadata_ptr)\n\u001b[0m\u001b[1;32m    878\u001b[0m       \u001b[0;32mif\u001b[0m \u001b[0mrun_metadata\u001b[0m\u001b[0;34m:\u001b[0m\u001b[0;34m\u001b[0m\u001b[0m\n\u001b[1;32m    879\u001b[0m         \u001b[0mproto_data\u001b[0m \u001b[0;34m=\u001b[0m \u001b[0mtf_session\u001b[0m\u001b[0;34m.\u001b[0m\u001b[0mTF_GetBuffer\u001b[0m\u001b[0;34m(\u001b[0m\u001b[0mrun_metadata_ptr\u001b[0m\u001b[0;34m)\u001b[0m\u001b[0;34m\u001b[0m\u001b[0m\n",
      "\u001b[0;32m/Library/Frameworks/Python.framework/Versions/3.6/lib/python3.6/site-packages/tensorflow/python/client/session.py\u001b[0m in \u001b[0;36m_run\u001b[0;34m(self, handle, fetches, feed_dict, options, run_metadata)\u001b[0m\n\u001b[1;32m   1079\u001b[0m \u001b[0;34m\u001b[0m\u001b[0m\n\u001b[1;32m   1080\u001b[0m           \u001b[0mfeed_dict_tensor\u001b[0m\u001b[0;34m[\u001b[0m\u001b[0msubfeed_t\u001b[0m\u001b[0;34m]\u001b[0m \u001b[0;34m=\u001b[0m \u001b[0mnp_val\u001b[0m\u001b[0;34m\u001b[0m\u001b[0m\n\u001b[0;32m-> 1081\u001b[0;31m           \u001b[0mfeed_map\u001b[0m\u001b[0;34m[\u001b[0m\u001b[0mcompat\u001b[0m\u001b[0;34m.\u001b[0m\u001b[0mas_bytes\u001b[0m\u001b[0;34m(\u001b[0m\u001b[0msubfeed_t\u001b[0m\u001b[0;34m.\u001b[0m\u001b[0mname\u001b[0m\u001b[0;34m)\u001b[0m\u001b[0;34m]\u001b[0m \u001b[0;34m=\u001b[0m \u001b[0;34m(\u001b[0m\u001b[0msubfeed_t\u001b[0m\u001b[0;34m,\u001b[0m \u001b[0msubfeed_val\u001b[0m\u001b[0;34m)\u001b[0m\u001b[0;34m\u001b[0m\u001b[0m\n\u001b[0m\u001b[1;32m   1082\u001b[0m \u001b[0;34m\u001b[0m\u001b[0m\n\u001b[1;32m   1083\u001b[0m     \u001b[0;31m# Create a fetch handler to take care of the structure of fetches.\u001b[0m\u001b[0;34m\u001b[0m\u001b[0;34m\u001b[0m\u001b[0m\n",
      "\u001b[0;31mKeyboardInterrupt\u001b[0m: "
     ]
    }
   ],
   "source": [
    "\n",
    "# get data from train_1.csv\n",
    "tmp = np.genfromtxt(\"train_1.csv\", dtype=float, delimiter=\",\")\n",
    "\n",
    "tem = tmp[1:,2:]\n",
    "ave = np.mean(tem,axis = 0)*np.ones((891,6))\n",
    "ptp = np.ptp(tem,axis = 0)*np.ones((891,6))\n",
    "tem = np.subtract(tem,ave)\n",
    "tem = np.true_divide(tem,ptp)\n",
    "tmp[1:,2:] = tem\n",
    "\n",
    "train_data = tmp[1:601,2:]\n",
    "validation_data = tmp[601:,2:]\n",
    "train_lable = tmp[1:,1]\n",
    "train_lable = train_lable.reshape(891,1)\n",
    "\n",
    "def add_layer(input,in_size,out_size):\n",
    "    theta = tf.Variable(tf.random_normal([in_size,out_size]))\n",
    "    if out_size==1:\n",
    "        z = tf.matmul(input,theta)\n",
    "        a = tf.sigmoid(z)\n",
    "    else:\n",
    "        z = tf.matmul(input,theta)\n",
    "        a = tf.sigmoid(z)\n",
    "        a_0 = tf.ones([600,1])\n",
    "        a = tf.concat([a_0,a],1)\n",
    "    return theta,a,z\n",
    "\n",
    "\n",
    "# define placeholder for inputs to network\n",
    "xs = tf.placeholder(tf.float32,[None,6])\n",
    "ys = tf.placeholder(tf.float32,[None,1])\n",
    "\n",
    "# add hidden layer\n",
    "theta_1,l1,z_1 = add_layer(xs,6,12)\n",
    "# add output layer\n",
    "theta_2,output,z_2 = add_layer(l1,13,1)\n",
    "\n",
    "# the error between prediction and real data\n",
    "J_theta = tf.reduce_mean(tf.nn.sigmoid_cross_entropy_with_logits(labels = ys,logits = z_2))\n",
    "\n",
    "a = 0.1 # learning rate\n",
    "train_step = tf.train.GradientDescentOptimizer(a).minimize(J_theta)\n",
    "\n",
    "#initialize\n",
    "init = tf.global_variables_initializer()\n",
    "\n",
    "sess = tf.Session()\n",
    "sess.run(init)\n",
    "\n",
    "for i in range(100000):\n",
    "    #training\n",
    "    sess.run(train_step,feed_dict={xs:train_data[0:600],ys:train_lable[0:600]})\n",
    "    \n",
    "    if i%1000 == 0:\n",
    "        loss = sess.run(J_theta,feed_dict={xs:train_data[0:600],ys:train_lable[0:600]})\n",
    "        print(\"J_theta:\",loss)\n",
    "        theta1 = sess.run(theta_1)\n",
    "        theta2 = sess.run(theta_2)\n",
    "        #print(theta1,theta2,train_data[601:890])\n",
    "\n",
    "\n"
   ]
  },
  {
   "cell_type": "code",
   "execution_count": 3,
   "metadata": {},
   "outputs": [
    {
     "data": {
      "text/plain": [
       "(291, 6)"
      ]
     },
     "execution_count": 3,
     "metadata": {},
     "output_type": "execute_result"
    }
   ],
   "source": [
    "validation_data.shape"
   ]
  },
  {
   "cell_type": "code",
   "execution_count": 64,
   "metadata": {},
   "outputs": [
    {
     "data": {
      "text/plain": [
       "array([[ 1.00000000e+00,  0.00000000e+00,  3.45679012e-01, ...,\n",
       "        -6.35989525e-02, -4.87073701e-02, -1.56752712e-01],\n",
       "       [ 2.00000000e+00,  1.00000000e+00, -6.54320988e-01, ...,\n",
       "        -6.35989525e-02,  7.62773077e-02,  5.09913954e-01],\n",
       "       [ 3.00000000e+00,  1.00000000e+00,  3.45679012e-01, ...,\n",
       "        -6.35989525e-02, -4.73898579e-02, -1.56752712e-01],\n",
       "       ...,\n",
       "       [ 8.89000000e+02,  0.00000000e+00,  3.45679012e-01, ...,\n",
       "         2.69734381e-01, -1.70870760e-02, -1.56752712e-01],\n",
       "       [ 8.90000000e+02,  1.00000000e+00, -6.54320988e-01, ...,\n",
       "        -6.35989525e-02, -4.30232743e-03,  5.09913954e-01],\n",
       "       [ 8.91000000e+02,  0.00000000e+00,  3.45679012e-01, ...,\n",
       "        -6.35989525e-02, -4.77314351e-02,  1.76580621e-01]])"
      ]
     },
     "execution_count": 64,
     "metadata": {},
     "output_type": "execute_result"
    }
   ],
   "source": []
  }
 ],
 "metadata": {
  "kernelspec": {
   "display_name": "Python 3",
   "language": "python",
   "name": "python3"
  },
  "language_info": {
   "codemirror_mode": {
    "name": "ipython",
    "version": 3
   },
   "file_extension": ".py",
   "mimetype": "text/x-python",
   "name": "python",
   "nbconvert_exporter": "python",
   "pygments_lexer": "ipython3",
   "version": "3.6.6"
  }
 },
 "nbformat": 4,
 "nbformat_minor": 2
}
