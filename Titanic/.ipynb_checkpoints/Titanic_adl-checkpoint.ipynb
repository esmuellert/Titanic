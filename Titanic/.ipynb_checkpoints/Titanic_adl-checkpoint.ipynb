{
 "cells": [
  {
   "cell_type": "code",
   "execution_count": 2,
   "metadata": {
    "scrolled": true
   },
   "outputs": [
    {
     "name": "stderr",
     "output_type": "stream",
     "text": [
      "/Library/Frameworks/Python.framework/Versions/3.6/lib/python3.6/importlib/_bootstrap.py:219: RuntimeWarning: compiletime version 3.5 of module 'tensorflow.python.framework.fast_tensor_util' does not match runtime version 3.6\n",
      "  return f(*args, **kwds)\n"
     ]
    }
   ],
   "source": [
    "import numpy as np\n",
    "import tensorflow as tf\n"
   ]
  },
  {
   "cell_type": "code",
   "execution_count": 27,
   "metadata": {},
   "outputs": [
    {
     "name": "stdout",
     "output_type": "stream",
     "text": [
      "J_theta: 1.021437\n",
      "0.63829786\n",
      "J_theta: 0.46279135\n",
      "0.822695\n",
      "J_theta: 0.45743412\n",
      "0.822695\n",
      "J_theta: 0.4538156\n",
      "0.822695\n",
      "J_theta: 0.4518968\n",
      "0.8297872\n",
      "J_theta: 0.4509977\n",
      "0.8297872\n",
      "J_theta: 0.45046687\n",
      "0.8297872\n",
      "J_theta: 0.4499452\n",
      "0.822695\n",
      "J_theta: 0.44926512\n",
      "0.8297872\n",
      "J_theta: 0.44853595\n",
      "0.83687943\n"
     ]
    }
   ],
   "source": [
    "\n",
    "# get data from train_1.csv\n",
    "tmp = np.genfromtxt(\"train_1.csv\", dtype=float, delimiter=\",\")\n",
    "\n",
    "# set training_data quantity and validation data quantity\n",
    "train_quantity = 750\n",
    "validation_quantity = 891-train_quantity\n",
    "\n",
    "# 归一化\n",
    "tem = tmp[1:,2:]\n",
    "ave = np.mean(tem,axis = 0)*np.ones((891,6))\n",
    "ptp = np.ptp(tem,axis = 0)*np.ones((891,6))\n",
    "tem = np.subtract(tem,ave)\n",
    "tem = np.true_divide(tem,ptp)\n",
    "tmp[1:,2:] = tem\n",
    "\n",
    "#apart train,validation\n",
    "train_data = tmp[1:train_quantity+1,2:]\n",
    "validation_data0 = tmp[train_quantity+1:,2:]\n",
    "\n",
    "train_lable = tmp[1:train_quantity+1,1]\n",
    "validation_lable0 = tmp[train_quantity+1:,1]\n",
    "\n",
    "train_lable = train_lable.reshape(train_quantity,1)\n",
    "validation_lable0 = validation_lable0.reshape(validation_quantity,1)\n",
    "\n",
    "# define layer function\n",
    "def add_layer(input,in_size,out_size):\n",
    "    theta = tf.Variable(tf.random_normal([in_size,out_size]))\n",
    "    if out_size==1:\n",
    "        z = tf.matmul(input,theta)\n",
    "        a = tf.sigmoid(z)\n",
    "    else:\n",
    "        z = tf.matmul(input,theta)\n",
    "        a = tf.sigmoid(z)\n",
    "        a_0 = tf.ones([train_quantity,1])\n",
    "        a = tf.concat([a_0,a],1)\n",
    "    return theta,a,z\n",
    "\n",
    "\n",
    "# define placeholder for inputs to network\n",
    "xs = tf.placeholder(tf.float32,[None,6])\n",
    "ys = tf.placeholder(tf.float32,[None,1])\n",
    "\n",
    "# add hidden layer\n",
    "theta_1,l1,z_1 = add_layer(xs,6,12)\n",
    "\n",
    "theta_2,l2,z_2 = add_layer(l1,13,12)\n",
    "#add output layer\n",
    "theta_3,output,z_3 = add_layer(l2,13,1)\n",
    "\n",
    "#regularzation\n",
    "lamda = 0.05\n",
    "regularzation = (tf.reduce_sum(tf.square(theta_1))+tf.reduce_sum(tf.square(theta_2)))*lamda/600\n",
    "\n",
    "# the error between prediction and real data\n",
    "J_theta = tf.reduce_mean(tf.nn.sigmoid_cross_entropy_with_logits(labels = ys,logits = z_3)) + regularzation\n",
    "\n",
    "a = 3 # learning rate\n",
    "train_step = tf.train.GradientDescentOptimizer(a).minimize(J_theta)\n",
    "\n",
    "#prediction\n",
    "validation_data = tf.constant(validation_data0,tf.float32)\n",
    "validation_lable = tf.constant(validation_lable0,tf.float32)\n",
    "\n",
    "a_1 = tf.sigmoid(tf.matmul(validation_data,theta_1))\n",
    "a_0 = tf.ones([validation_quantity,1])\n",
    "a_20 = tf.concat([a_0,a_1],1)\n",
    "a_2 = tf.sigmoid(tf.matmul(a_20,theta_2))\n",
    "a_30 = tf.concat([a_0,a_2],1)\n",
    "a_3 = tf.sigmoid(tf.matmul(a_30,theta_3))\n",
    "prediction = tf.round(a_3)\n",
    "\n",
    "validation = tf.subtract(prediction,validation_lable)\n",
    "validation = tf.abs(validation)\n",
    "accuracy =tf.reduce_sum(validation) \n",
    "accuracy = (validation_quantity-accuracy)/validation_quantity\n",
    "\n",
    "#initialize\n",
    "init = tf.global_variables_initializer()\n",
    "\n",
    "sess = tf.Session()\n",
    "sess.run(init)\n",
    "\n",
    "for i in range(5000):\n",
    "    #training\n",
    "    sess.run(train_step,feed_dict={xs:train_data,ys:train_lable})\n",
    "    \n",
    "    if i%500 == 0:\n",
    "        loss = sess.run(J_theta,feed_dict={xs:train_data,ys:train_lable})\n",
    "        print(\"J_theta:\",loss)\n",
    "        acc = sess.run(accuracy)\n",
    "        print(acc)\n",
    "        \n",
    "\n",
    "\n"
   ]
  },
  {
   "cell_type": "code",
   "execution_count": 33,
   "metadata": {},
   "outputs": [],
   "source": [
    "# import test sets\n",
    "test = np.genfromtxt(\"test_1.csv\",dtype = float,delimiter=\",\")\n",
    "\n",
    "#reshape test sets\n",
    "tem1 = test[1:,1:]\n",
    "ave1 = np.mean(tem1,axis = 0)*np.ones((418,6))\n",
    "ptp1 = np.ptp(tem1,axis = 0)*np.ones((418,6))\n",
    "tem1 = np.subtract(tem1,ave1)\n",
    "tem1 = np.true_divide(tem1,ptp1)\n",
    "test[1:,1:] = tem1\n",
    "test = test[1:,1:]\n",
    "\n",
    "# define tensorflow constant test data\n",
    "test_data = tf.constant(test,tf.float32)\n",
    "\n",
    "# predict test data\n",
    "t_1 = tf.sigmoid(tf.matmul(test_data,theta_1))\n",
    "t_0 = tf.ones([418,1])\n",
    "t_20 = tf.concat([t_0,t_1],1)\n",
    "t_2 = tf.sigmoid(tf.matmul(t_20,theta_2))\n",
    "t_30 = tf.concat([t_0,t_2],1)\n",
    "t_3 = tf.sigmoid(tf.matmul(t_30,theta_3))\n",
    "prediction_1 = tf.round(t_3)\n",
    "prediction_1 = tf.to_int32(prediction_1)\n",
    "\n",
    "# return result\n",
    "result = sess.run(prediction_1)\n",
    "No = np.arange(892,1310)\n",
    "No = No.reshape(418,1)\n",
    "title = np.array([\"PassengerId\",\"Survived\"])\n",
    "title = title.reshape(1,2)\n",
    "result = np.append(No,result,axis=1)\n",
    "result = np.append(title,result,axis=0)\n",
    "np.savetxt(\"result_1.csv\", result, delimiter=\",\",fmt = \"%s\")\n"
   ]
  },
  {
   "cell_type": "code",
   "execution_count": 31,
   "metadata": {},
   "outputs": [
    {
     "data": {
      "text/plain": [
       "(418, 12)"
      ]
     },
     "execution_count": 31,
     "metadata": {},
     "output_type": "execute_result"
    }
   ],
   "source": [
    "result.shape"
   ]
  },
  {
   "cell_type": "code",
   "execution_count": null,
   "metadata": {},
   "outputs": [],
   "source": []
  }
 ],
 "metadata": {
  "kernelspec": {
   "display_name": "Python 3",
   "language": "python",
   "name": "python3"
  },
  "language_info": {
   "codemirror_mode": {
    "name": "ipython",
    "version": 3
   },
   "file_extension": ".py",
   "mimetype": "text/x-python",
   "name": "python",
   "nbconvert_exporter": "python",
   "pygments_lexer": "ipython3",
   "version": "3.6.6"
  }
 },
 "nbformat": 4,
 "nbformat_minor": 2
}
